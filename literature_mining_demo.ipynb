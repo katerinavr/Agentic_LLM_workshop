{
 "cells": [
  {
   "cell_type": "markdown",
   "metadata": {},
   "source": [
    "- Goal of this tutorial is to teach how to retrieve information from papers, where important properties can be found in images, tables and text.\n",
    "- In the following examples, we will screen PDF papers related to the field of Mixed Ionic Electronic Conductors (OMIECs).\n",
    "- All the data extracted from the papers will be further processed for validity and dupliates removal and the final statistics plots will be generated.\n",
    "- The cleaned multi-modal data will then be appended to a vector databse for enabling multimodal RAG"
   ]
  },
  {
   "cell_type": "code",
   "execution_count": 1,
   "metadata": {},
   "outputs": [],
   "source": [
    "from matagen.agents import *\n",
    "from matagen.scraping.pdf_scraper import pdf_scraper_tool\n",
    "from matagen.config.settings import OPENAI_API_KEY"
   ]
  },
  {
   "cell_type": "code",
   "execution_count": 2,
   "metadata": {},
   "outputs": [
    {
     "name": "stdout",
     "output_type": "stream",
     "text": [
      "Processing 4T-PEO4...\n"
     ]
    }
   ],
   "source": [
    "import os\n",
    "from pathlib import Path\n",
    "pdf_file_path = \"C:/Users/kvriz/Desktop/DataMiningAgents/data/pdf_examples\"\n",
    "for file in os.listdir(pdf_file_path):\n",
    "    if file.endswith(\".pdf\"):\n",
    "        pdf_file_path = os.path.join(pdf_file_path, file)\n",
    "        print(f\"Processing {Path(pdf_file_path).stem }...\")"
   ]
  },
  {
   "cell_type": "code",
   "execution_count": 3,
   "metadata": {},
   "outputs": [
    {
     "name": "stdout",
     "output_type": "stream",
     "text": [
      "self.results_directory_tool outputs\\pdf_runs\\pdf_papers\n",
      "self.results_directory_tool outputs\\pdf_runs\\pdf_papers\n",
      "self.results_directory_tool outputs\\pdf_runs\\pdf_papers\n"
     ]
    },
    {
     "ename": "FileNotFoundError",
     "evalue": "[Errno 2] No such file or directory: 'C:\\\\Users\\\\kvriz\\\\Desktop\\\\DataMiningAgents\\\\src\\\\matagen\\\\exsclaim/figures/config/yolov3_default_subfig.cfg'",
     "output_type": "error",
     "traceback": [
      "\u001b[31m---------------------------------------------------------------------------\u001b[39m",
      "\u001b[31mFileNotFoundError\u001b[39m                         Traceback (most recent call last)",
      "\u001b[36mCell\u001b[39m\u001b[36m \u001b[39m\u001b[32mIn[3]\u001b[39m\u001b[32m, line 3\u001b[39m\n\u001b[32m      1\u001b[39m pdf_file_path = \u001b[33m\"\u001b[39m\u001b[33mC:/Users/kvriz/Desktop/DataMiningAgents/data/pdf_examples\u001b[39m\u001b[33m\"\u001b[39m\n\u001b[32m      2\u001b[39m output_base_dir = \u001b[33m\"\u001b[39m\u001b[33moutputs/pdf_runs\u001b[39m\u001b[33m\"\u001b[39m\n\u001b[32m----> \u001b[39m\u001b[32m3\u001b[39m \u001b[43mpdf_scraper_tool\u001b[49m\u001b[43m(\u001b[49m\u001b[43mpdf_file_path\u001b[49m\u001b[43m,\u001b[49m\u001b[43m \u001b[49m\u001b[43moutput_base_dir\u001b[49m\u001b[43m,\u001b[49m\u001b[43m \u001b[49m\u001b[43mpaper_name\u001b[49m\u001b[43m=\u001b[49m\u001b[33;43m\"\u001b[39;49m\u001b[33;43mpdf_papers\u001b[39;49m\u001b[33;43m\"\u001b[39;49m\u001b[43m,\u001b[49m\u001b[43m \u001b[49m\u001b[43mapi_key\u001b[49m\u001b[43m \u001b[49m\u001b[43m=\u001b[49m\u001b[43m \u001b[49m\u001b[43mOPENAI_API_KEY\u001b[49m\u001b[43m)\u001b[49m\n",
      "\u001b[36mFile \u001b[39m\u001b[32m~\\Desktop\\DataMiningAgents\\src\\matagen\\scraping\\pdf_scraper.py:25\u001b[39m, in \u001b[36mpdf_scraper_tool\u001b[39m\u001b[34m(pdf_file_path, output_dir, paper_name, api_key)\u001b[39m\n\u001b[32m     14\u001b[39m test_json = {\n\u001b[32m     15\u001b[39m     \u001b[33m\"\u001b[39m\u001b[33mname\u001b[39m\u001b[33m\"\u001b[39m: paper_name,\n\u001b[32m     16\u001b[39m     \u001b[33m\"\u001b[39m\u001b[33mpdf_folder\u001b[39m\u001b[33m\"\u001b[39m: pdf_file_path,\n\u001b[32m   (...)\u001b[39m\u001b[32m     21\u001b[39m     \u001b[33m\"\u001b[39m\u001b[33mlogging\u001b[39m\u001b[33m\"\u001b[39m: [\u001b[33m\"\u001b[39m\u001b[33mprint\u001b[39m\u001b[33m\"\u001b[39m, \u001b[33m\"\u001b[39m\u001b[33mexsclaim.log\u001b[39m\u001b[33m\"\u001b[39m]\n\u001b[32m     22\u001b[39m }\n\u001b[32m     24\u001b[39m test_pipeline = Pipeline(test_json)\n\u001b[32m---> \u001b[39m\u001b[32m25\u001b[39m results = \u001b[43mtest_pipeline\u001b[49m\u001b[43m.\u001b[49m\u001b[43mrun\u001b[49m\u001b[43m(\u001b[49m\n\u001b[32m     26\u001b[39m \u001b[43m    \u001b[49m\u001b[43mfigure_separator\u001b[49m\u001b[43m=\u001b[49m\u001b[38;5;28;43;01mTrue\u001b[39;49;00m\u001b[43m,\u001b[49m\n\u001b[32m     27\u001b[39m \u001b[43m    \u001b[49m\u001b[43mcaption_distributor\u001b[49m\u001b[43m=\u001b[49m\u001b[38;5;28;43;01mTrue\u001b[39;49;00m\u001b[43m,\u001b[49m\n\u001b[32m     28\u001b[39m \u001b[43m    \u001b[49m\u001b[43mjournal_scraper\u001b[49m\u001b[43m=\u001b[49m\u001b[38;5;28;43;01mFalse\u001b[39;49;00m\u001b[43m,\u001b[49m\n\u001b[32m     29\u001b[39m \u001b[43m    \u001b[49m\u001b[43mpdf_scraper\u001b[49m\u001b[43m=\u001b[49m\u001b[38;5;28;43;01mTrue\u001b[39;49;00m\u001b[43m,\u001b[49m\n\u001b[32m     30\u001b[39m \u001b[43m    \u001b[49m\u001b[43mdriver\u001b[49m\u001b[43m=\u001b[49m\u001b[38;5;28;43;01mNone\u001b[39;49;00m\n\u001b[32m     31\u001b[39m \u001b[43m\u001b[49m\u001b[43m)\u001b[49m\n\u001b[32m     32\u001b[39m \u001b[38;5;28;01mreturn\u001b[39;00m results\n",
      "\u001b[36mFile \u001b[39m\u001b[32m~\\Desktop\\DataMiningAgents\\src\\matagen\\exsclaim\\pipeline.py:116\u001b[39m, in \u001b[36mPipeline.run\u001b[39m\u001b[34m(self, tools, figure_separator, caption_distributor, journal_scraper, pdf_scraper, html_scraper, driver)\u001b[39m\n\u001b[32m    114\u001b[39m         tools.append(CaptionDistributor(\u001b[38;5;28mself\u001b[39m.query_dict))\n\u001b[32m    115\u001b[39m     \u001b[38;5;28;01mif\u001b[39;00m figure_separator:\n\u001b[32m--> \u001b[39m\u001b[32m116\u001b[39m         tools.append(\u001b[43mFigureSeparator\u001b[49m\u001b[43m(\u001b[49m\u001b[38;5;28;43mself\u001b[39;49m\u001b[43m.\u001b[49m\u001b[43mquery_dict\u001b[49m\u001b[43m)\u001b[49m)\n\u001b[32m    117\u001b[39m \u001b[38;5;66;03m# run each ExsclaimTool on search query\u001b[39;00m\n\u001b[32m    118\u001b[39m \u001b[38;5;28;01mfor\u001b[39;00m tool \u001b[38;5;129;01min\u001b[39;00m tools:\n",
      "\u001b[36mFile \u001b[39m\u001b[32m~\\Desktop\\DataMiningAgents\\src\\matagen\\exsclaim\\figure.py:51\u001b[39m, in \u001b[36mFigureSeparator.__init__\u001b[39m\u001b[34m(self, search_query)\u001b[39m\n\u001b[32m     49\u001b[39m \u001b[38;5;28mself\u001b[39m.logger = logging.getLogger(\u001b[34m__name__\u001b[39m)\n\u001b[32m     50\u001b[39m \u001b[38;5;28mself\u001b[39m.initialize_query(search_query)\n\u001b[32m---> \u001b[39m\u001b[32m51\u001b[39m \u001b[38;5;28;43mself\u001b[39;49m\u001b[43m.\u001b[49m\u001b[43m_load_model\u001b[49m\u001b[43m(\u001b[49m\u001b[43m)\u001b[49m\n\u001b[32m     52\u001b[39m \u001b[38;5;28mself\u001b[39m.exsclaim_json = {}\n",
      "\u001b[36mFile \u001b[39m\u001b[32m~\\Desktop\\DataMiningAgents\\src\\matagen\\exsclaim\\figure.py:83\u001b[39m, in \u001b[36mFigureSeparator._load_model\u001b[39m\u001b[34m(self)\u001b[39m\n\u001b[32m     81\u001b[39m model_path = os.path.dirname(\u001b[34m__file__\u001b[39m) + \u001b[33m\"\u001b[39m\u001b[33m/figures/\u001b[39m\u001b[33m\"\u001b[39m\n\u001b[32m     82\u001b[39m configuration_file = model_path + \u001b[33m\"\u001b[39m\u001b[33mconfig/yolov3_default_subfig.cfg\u001b[39m\u001b[33m\"\u001b[39m\n\u001b[32m---> \u001b[39m\u001b[32m83\u001b[39m \u001b[38;5;28;01mwith\u001b[39;00m \u001b[38;5;28;43mopen\u001b[39;49m\u001b[43m(\u001b[49m\u001b[43mconfiguration_file\u001b[49m\u001b[43m,\u001b[49m\u001b[43m \u001b[49m\u001b[33;43m\"\u001b[39;49m\u001b[33;43mr\u001b[39;49m\u001b[33;43m\"\u001b[39;49m\u001b[43m)\u001b[49m \u001b[38;5;28;01mas\u001b[39;00m f:\n\u001b[32m     84\u001b[39m     configuration = yaml.load(f, Loader=yaml.FullLoader)\n\u001b[32m     86\u001b[39m \u001b[38;5;28mself\u001b[39m.image_size = configuration[\u001b[33m\"\u001b[39m\u001b[33mTEST\u001b[39m\u001b[33m\"\u001b[39m][\u001b[33m\"\u001b[39m\u001b[33mIMGSIZE\u001b[39m\u001b[33m\"\u001b[39m]\n",
      "\u001b[31mFileNotFoundError\u001b[39m: [Errno 2] No such file or directory: 'C:\\\\Users\\\\kvriz\\\\Desktop\\\\DataMiningAgents\\\\src\\\\matagen\\\\exsclaim/figures/config/yolov3_default_subfig.cfg'"
     ]
    }
   ],
   "source": [
    "pdf_file_path = \"C:/Users/kvriz/Desktop/DataMiningAgents/data/pdf_examples\"\n",
    "output_base_dir = \"outputs/pdf_runs\"\n",
    "pdf_scraper_tool(pdf_file_path, output_base_dir, paper_name=\"pdf_papers\", api_key = OPENAI_API_KEY)"
   ]
  },
  {
   "cell_type": "code",
   "execution_count": null,
   "metadata": {},
   "outputs": [],
   "source": [
    "# Use the multimodal information to create a RAG Agent\n",
    "# We use the main text in chunks, the images with their descriptions and save them in a ChromaDB for retrieval including both \n",
    "# image and text information.\n"
   ]
  },
  {
   "cell_type": "code",
   "execution_count": null,
   "metadata": {},
   "outputs": [
    {
     "name": "stdout",
     "output_type": "stream",
     "text": [
      "NumPy version: 2.2.4\n",
      "PyTorch version: 2.0.1+cpu\n"
     ]
    }
   ],
   "source": [
    "import numpy as np\n",
    "import torch\n",
    "print(f\"NumPy version: {np.__version__}\")\n",
    "print(f\"PyTorch version: {torch.__version__}\")"
   ]
  }
 ],
 "metadata": {
  "kernelspec": {
   "display_name": "mmatagen",
   "language": "python",
   "name": "python3"
  },
  "language_info": {
   "codemirror_mode": {
    "name": "ipython",
    "version": 3
   },
   "file_extension": ".py",
   "mimetype": "text/x-python",
   "name": "python",
   "nbconvert_exporter": "python",
   "pygments_lexer": "ipython3",
   "version": "3.11.11"
  }
 },
 "nbformat": 4,
 "nbformat_minor": 2
}
